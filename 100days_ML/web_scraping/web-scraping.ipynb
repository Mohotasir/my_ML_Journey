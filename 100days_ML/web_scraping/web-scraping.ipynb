{
 "cells": [
  {
   "cell_type": "code",
   "execution_count": 2,
   "id": "0cb8b4af",
   "metadata": {},
   "outputs": [
    {
     "name": "stdout",
     "output_type": "stream",
     "text": [
      "Requirement already satisfied: bs4 in c:\\users\\mohot\\appdata\\local\\programs\\python\\python312\\lib\\site-packages (0.0.2)Note: you may need to restart the kernel to use updated packages.\n",
      "\n",
      "Requirement already satisfied: beautifulsoup4 in c:\\users\\mohot\\appdata\\local\\programs\\python\\python312\\lib\\site-packages (from bs4) (4.13.4)\n",
      "Requirement already satisfied: soupsieve>1.2 in c:\\users\\mohot\\appdata\\local\\programs\\python\\python312\\lib\\site-packages (from beautifulsoup4->bs4) (2.7)\n",
      "Requirement already satisfied: typing-extensions>=4.0.0 in c:\\users\\mohot\\appdata\\local\\programs\\python\\python312\\lib\\site-packages (from beautifulsoup4->bs4) (4.12.2)\n"
     ]
    },
    {
     "name": "stderr",
     "output_type": "stream",
     "text": [
      "\n",
      "[notice] A new release of pip is available: 24.3.1 -> 25.1.1\n",
      "[notice] To update, run: python.exe -m pip install --upgrade pip\n"
     ]
    }
   ],
   "source": [
    "%pip install bs4\n"
   ]
  },
  {
   "cell_type": "code",
   "execution_count": 3,
   "id": "d23c0adb",
   "metadata": {},
   "outputs": [],
   "source": [
    "import pandas as pd\n",
    "import requests\n",
    "import numpy as np\n",
    "from bs4 import BeautifulSoup"
   ]
  },
  {
   "cell_type": "code",
   "execution_count": 4,
   "id": "804bedc8",
   "metadata": {},
   "outputs": [],
   "source": [
    "headers = {\n",
    "    'User-Agent' : 'Mozilla/5.0 (Windows NT 10.0; Win64; x64) AppleWebKit/537.36 (KHTML, like Gecko) Chrome/137.0.0.0 Safari/537.36'\n",
    "}\n"
   ]
  },
  {
   "cell_type": "code",
   "execution_count": 15,
   "id": "a2d300c6",
   "metadata": {},
   "outputs": [],
   "source": [
    "url = 'https://internshala.com/jobs/page-2/'"
   ]
  },
  {
   "cell_type": "code",
   "execution_count": 16,
   "id": "ad488602",
   "metadata": {},
   "outputs": [],
   "source": [
    "\n",
    "webpage=requests.get(url,headers=headers).text\n"
   ]
  },
  {
   "cell_type": "code",
   "execution_count": 17,
   "id": "23257c24",
   "metadata": {},
   "outputs": [],
   "source": [
    "soup = BeautifulSoup(webpage, 'html.parser')"
   ]
  },
  {
   "cell_type": "code",
   "execution_count": 27,
   "metadata": {},
   "outputs": [
    {
     "data": {
      "text/plain": [
       "'\\nManagement Trainee\\n'"
      ]
     },
     "execution_count": 27,
     "metadata": {},
     "output_type": "execute_result"
    }
   ],
   "source": [
    "soup.find_all('h3')[0].text\n"
   ]
  },
  {
   "cell_type": "code",
   "execution_count": 28,
   "id": "bd84c299",
   "metadata": {},
   "outputs": [
    {
     "name": "stdout",
     "output_type": "stream",
     "text": [
      "Management Trainee\n",
      "Young Leader (Management Trainee)\n",
      "Omni Sport Advisor\n",
      "Inside Sales Associate\n",
      "Omni Sport Advisor\n",
      "Field Sales Executive\n",
      "Business Development Executive\n",
      "Customer Service Associate\n",
      "Program Manager\n",
      "Executive - Relationship Manager\n",
      "Customer Service Executive\n",
      "Marketing Operations Executive\n",
      "Junior Social Media Marketing Executive\n",
      "Customer Service Executive\n",
      "UK Recruitment Consultant\n",
      "Customer Support Associate\n",
      "Evaluation Engineer\n",
      "Business Development Associate\n",
      "Business Development Executive\n",
      "Telecaller\n",
      "Field Sales Trainee\n",
      "Field Sales Trainee\n",
      "Sales Manager\n",
      "Junior Field Sales Trainee\n",
      "Strategic Partnership Executive\n",
      "Executive Assistant To Director\n",
      "Pre-Sales (US)\n",
      "Junior Architect\n",
      "Customer Service Associate\n",
      "Business Development Manager\n",
      "Business Development Associate (Ops)\n",
      "Business Development Associate\n",
      "Graduate Trainee\n",
      "Business Development Executive\n",
      "Business Development Associate\n",
      "Graduate Trainee - Sales\n",
      "Field Sales Executive\n",
      "Customer Acquisition Associate\n",
      "Business Development Executive\n",
      "Junior Talent Acquisition Executive\n"
     ]
    }
   ],
   "source": [
    "for i in soup.find_all('h3'):\n",
    "    print(i.text.strip())"
   ]
  },
  {
   "cell_type": "code",
   "execution_count": 34,
   "id": "d62dcc3d",
   "metadata": {},
   "outputs": [
    {
     "data": {
      "text/plain": [
       "40"
      ]
     },
     "execution_count": 34,
     "metadata": {},
     "output_type": "execute_result"
    }
   ],
   "source": [
    "len(soup.find_all('p', class_='row-1-item'))"
   ]
  },
  {
   "cell_type": "code",
   "execution_count": 31,
   "id": "6bc780c5",
   "metadata": {},
   "outputs": [
    {
     "name": "stdout",
     "output_type": "stream",
     "text": [
      "Work from home\n",
      "Mumbai\n",
      "Gurgaon\n",
      "Gurgaon\n",
      "Pune\n",
      "Jalandhar\n",
      "Pune\n",
      "Delhi\n",
      "Bangalore\n",
      "Ahmedabad\n",
      "Gurgaon\n",
      "Work from home\n",
      "Noida\n",
      "Bangalore\n",
      "Ahmedabad\n",
      "Bangalore\n",
      "Delhi\n",
      "Hyderabad\n",
      "Ahmedabad\n",
      "Delhi\n",
      "Ahmedabad\n",
      "Ahmedabad\n",
      "Hyderabad\n",
      "Chennai\n",
      "Bangalore\n",
      "Jaipur\n",
      "Bangalore\n",
      "Work from home\n",
      "Bangalore\n",
      "Thane\n",
      "Bangalore\n",
      "Chennai\n",
      "Delhi\n",
      "Navi Mumbai\n",
      "Bangalore\n",
      "Jaipur\n",
      "Vijayawada\n",
      "Wakad\n",
      "Gurgaon\n",
      "Navi Mumbai\n"
     ]
    }
   ],
   "source": [
    "for i in soup.find_all('p', class_='row-1-item'):\n",
    "    tagA = i.find('a')\n",
    "    if tagA and not tagA.get('class'):\n",
    "        print(tagA.text.strip())\n",
    "    \n",
    "    "
   ]
  },
  {
   "cell_type": "code",
   "execution_count": 33,
   "id": "4707a65b",
   "metadata": {},
   "outputs": [
    {
     "data": {
      "text/plain": [
       "40"
      ]
     },
     "execution_count": 33,
     "metadata": {},
     "output_type": "execute_result"
    }
   ],
   "source": [
    "len(soup.find_all('span', class_= 'desktop'))"
   ]
  },
  {
   "cell_type": "code",
   "execution_count": 32,
   "metadata": {},
   "outputs": [
    {
     "name": "stdout",
     "output_type": "stream",
     "text": [
      "₹ 3,45,000 - 3,60,000\n",
      "₹ 3,40,000 - 3,50,000\n",
      "₹ 3,36,000 - 3,84,000\n",
      "₹ 3,36,000 - 3,60,000\n",
      "₹ 3,30,000 - 5,00,000\n",
      "₹ 3,10,000 - 4,50,000\n",
      "₹ 3,02,000 - 6,06,000\n",
      "₹ 3,02,000 - 4,10,000\n",
      "₹ 3,00,000 - 6,00,000\n",
      "₹ 3,00,000 - 5,50,000\n",
      "₹ 3,00,000 - 5,30,000\n",
      "₹ 3,00,000 - 5,00,000\n",
      "₹ 3,00,000 - 5,00,000\n",
      "₹ 3,00,000 - 4,50,000\n",
      "₹ 3,00,000 - 4,50,000\n",
      "₹ 3,00,000 - 4,50,000\n",
      "₹ 3,00,000 - 4,20,000\n",
      "₹ 3,00,000 - 4,00,000\n",
      "₹ 3,00,000 - 4,00,000\n",
      "₹ 3,00,000 - 4,00,000\n",
      "₹ 3,00,000 - 4,00,000\n",
      "₹ 3,00,000 - 4,00,000\n",
      "₹ 3,00,000 - 4,00,000\n",
      "₹ 3,00,000 - 3,75,000\n",
      "₹ 3,00,000 - 3,60,000\n",
      "₹ 3,00,000 - 3,60,000\n",
      "₹ 3,00,000 - 3,50,000\n",
      "₹ 3,00,000 - 3,50,000\n",
      "₹ 3,00,000 - 3,36,000\n",
      "₹ 3,00,000 - 3,36,000\n",
      "₹ 3,00,000 - 3,24,000\n",
      "₹ 3,00,000 - 3,20,000\n",
      "₹ 3,00,000\n",
      "₹ 2,90,000 - 8,00,000\n",
      "₹ 2,90,000 - 3,50,000\n",
      "₹ 2,90,000 - 3,00,000\n",
      "₹ 2,88,000 - 5,00,000\n",
      "₹ 2,88,000 - 3,00,000\n",
      "₹ 2,84,000 - 5,16,000\n",
      "₹ 2,80,000 - 4,20,000\n"
     ]
    }
   ],
   "source": [
    "for i in soup.find_all('span', class_= 'desktop'):\n",
    "    print(i.text.strip())"
   ]
  },
  {
   "cell_type": "code",
   "execution_count": 39,
   "id": "8f33955a",
   "metadata": {},
   "outputs": [
    {
     "name": "stdout",
     "output_type": "stream",
     "text": [
      "0 year(s)\n",
      "0 year(s)\n",
      "0 year(s)\n",
      "1 year(s)\n",
      "1 year(s)\n",
      "1 year(s)\n",
      "0 year(s)\n",
      "0 year(s)\n",
      "0 year(s)\n",
      "0 year(s)\n",
      "0 year(s)\n",
      "0 year(s)\n",
      "1 year(s)\n",
      "1 year(s)\n",
      "1 year(s)\n",
      "1 year(s)\n",
      "1 year(s)\n",
      "1 year(s)\n",
      "1 year(s)\n",
      "0 year(s)\n",
      "0 year(s)\n",
      "0 year(s)\n",
      "1 year(s)\n",
      "0 year(s)\n",
      "0 year(s)\n",
      "1 year(s)\n",
      "1 year(s)\n",
      "0 year(s)\n",
      "0 year(s)\n",
      "0 year(s)\n",
      "0 year(s)\n",
      "0 year(s)\n",
      "0 year(s)\n",
      "0 year(s)\n",
      "0 year(s)\n",
      "0 year(s)\n",
      "0 year(s)\n",
      "0 year(s)\n",
      "0 year(s)\n",
      "0 year(s)\n"
     ]
    }
   ],
   "source": [
    "for i in soup.find_all('div', class_='row-1-item'):\n",
    "    span = i.find('span')\n",
    "    if span and not span.get('class'):\n",
    "        print(span.text.strip())"
   ]
  },
  {
   "cell_type": "code",
   "execution_count": null,
   "metadata": {},
   "outputs": [
    {
     "data": {
      "text/html": [
       "<div>\n",
       "<style scoped>\n",
       "    .dataframe tbody tr th:only-of-type {\n",
       "        vertical-align: middle;\n",
       "    }\n",
       "\n",
       "    .dataframe tbody tr th {\n",
       "        vertical-align: top;\n",
       "    }\n",
       "\n",
       "    .dataframe thead th {\n",
       "        text-align: right;\n",
       "    }\n",
       "</style>\n",
       "<table border=\"1\" class=\"dataframe\">\n",
       "  <thead>\n",
       "    <tr style=\"text-align: right;\">\n",
       "      <th></th>\n",
       "      <th>Job Title</th>\n",
       "      <th>Location</th>\n",
       "      <th>Experience</th>\n",
       "      <th>Salary Range</th>\n",
       "    </tr>\n",
       "  </thead>\n",
       "  <tbody>\n",
       "    <tr>\n",
       "      <th>0</th>\n",
       "      <td>Management Trainee</td>\n",
       "      <td>Work from home</td>\n",
       "      <td>0 year(s)</td>\n",
       "      <td>₹ 3,45,000 - 3,60,000</td>\n",
       "    </tr>\n",
       "    <tr>\n",
       "      <th>1</th>\n",
       "      <td>Young Leader (Management Trainee)</td>\n",
       "      <td>Mumbai</td>\n",
       "      <td>0 year(s)</td>\n",
       "      <td>₹ 3,40,000 - 3,50,000</td>\n",
       "    </tr>\n",
       "    <tr>\n",
       "      <th>2</th>\n",
       "      <td>Omni Sport Advisor</td>\n",
       "      <td>Gurgaon</td>\n",
       "      <td>0 year(s)</td>\n",
       "      <td>₹ 3,36,000 - 3,84,000</td>\n",
       "    </tr>\n",
       "    <tr>\n",
       "      <th>3</th>\n",
       "      <td>Inside Sales Associate</td>\n",
       "      <td>Gurgaon</td>\n",
       "      <td>1 year(s)</td>\n",
       "      <td>₹ 3,36,000 - 3,60,000</td>\n",
       "    </tr>\n",
       "    <tr>\n",
       "      <th>4</th>\n",
       "      <td>Omni Sport Advisor</td>\n",
       "      <td>Pune</td>\n",
       "      <td>1 year(s)</td>\n",
       "      <td>₹ 3,30,000 - 5,00,000</td>\n",
       "    </tr>\n",
       "    <tr>\n",
       "      <th>5</th>\n",
       "      <td>Field Sales Executive</td>\n",
       "      <td>Jalandhar</td>\n",
       "      <td>1 year(s)</td>\n",
       "      <td>₹ 3,10,000 - 4,50,000</td>\n",
       "    </tr>\n",
       "    <tr>\n",
       "      <th>6</th>\n",
       "      <td>Business Development Executive</td>\n",
       "      <td>Pune</td>\n",
       "      <td>0 year(s)</td>\n",
       "      <td>₹ 3,02,000 - 6,06,000</td>\n",
       "    </tr>\n",
       "    <tr>\n",
       "      <th>7</th>\n",
       "      <td>Customer Service Associate</td>\n",
       "      <td>Delhi</td>\n",
       "      <td>0 year(s)</td>\n",
       "      <td>₹ 3,02,000 - 4,10,000</td>\n",
       "    </tr>\n",
       "    <tr>\n",
       "      <th>8</th>\n",
       "      <td>Program Manager</td>\n",
       "      <td>Bangalore</td>\n",
       "      <td>0 year(s)</td>\n",
       "      <td>₹ 3,00,000 - 6,00,000</td>\n",
       "    </tr>\n",
       "    <tr>\n",
       "      <th>9</th>\n",
       "      <td>Executive - Relationship Manager</td>\n",
       "      <td>Ahmedabad</td>\n",
       "      <td>0 year(s)</td>\n",
       "      <td>₹ 3,00,000 - 5,50,000</td>\n",
       "    </tr>\n",
       "  </tbody>\n",
       "</table>\n",
       "</div>"
      ],
      "text/plain": [
       "                           Job Title        Location Experience  \\\n",
       "0                 Management Trainee  Work from home  0 year(s)   \n",
       "1  Young Leader (Management Trainee)          Mumbai  0 year(s)   \n",
       "2                 Omni Sport Advisor         Gurgaon  0 year(s)   \n",
       "3             Inside Sales Associate         Gurgaon  1 year(s)   \n",
       "4                 Omni Sport Advisor            Pune  1 year(s)   \n",
       "5              Field Sales Executive       Jalandhar  1 year(s)   \n",
       "6     Business Development Executive            Pune  0 year(s)   \n",
       "7         Customer Service Associate           Delhi  0 year(s)   \n",
       "8                    Program Manager       Bangalore  0 year(s)   \n",
       "9   Executive - Relationship Manager       Ahmedabad  0 year(s)   \n",
       "\n",
       "            Salary Range  \n",
       "0  ₹ 3,45,000 - 3,60,000  \n",
       "1  ₹ 3,40,000 - 3,50,000  \n",
       "2  ₹ 3,36,000 - 3,84,000  \n",
       "3  ₹ 3,36,000 - 3,60,000  \n",
       "4  ₹ 3,30,000 - 5,00,000  \n",
       "5  ₹ 3,10,000 - 4,50,000  \n",
       "6  ₹ 3,02,000 - 6,06,000  \n",
       "7  ₹ 3,02,000 - 4,10,000  \n",
       "8  ₹ 3,00,000 - 6,00,000  \n",
       "9  ₹ 3,00,000 - 5,50,000  "
      ]
     },
     "execution_count": 53,
     "metadata": {},
     "output_type": "execute_result"
    }
   ],
   "source": [
    "\n",
    "job_titles = []\n",
    "locations = []\n",
    "experiences = []\n",
    "salaryranqes = []\n",
    "for i in soup.find_all('div', class_='internship_meta'):\n",
    "    # Extracting job title, location, experience, and salary range  \n",
    "    job_title = i.find('h3')\n",
    "    if job_title:\n",
    "        job_titles.append(job_title.text.strip())\n",
    "    else:\n",
    "        job_titles.append(np.nan)\n",
    "    #location\n",
    "    loc_p = i.find('p', class_='locations')\n",
    "    loc_a = loc_p.find('a') if loc_p else None\n",
    "    if loc_a:\n",
    "        locations.append(loc_a.text.strip())\n",
    "    else:\n",
    "        locations.append(np.nan)\n",
    "    #experience\n",
    "    exp_div = i.find_all('div', class_='row-1-item')\n",
    "    exp_span = exp_div[1].find('span') if exp_div else None\n",
    "    if exp_span and not exp_span.get('class'):\n",
    "        experience = exp_span.text.strip()\n",
    "        experiences.append(experience)\n",
    "    else:\n",
    "        experiences.append(np.nan)\n",
    "    \n",
    "    salary = i.find('span', class_='desktop')\n",
    "    if salary:\n",
    "        salaryranqes.append(salary.text.strip())\n",
    "    else:\n",
    "        salaryranqes.append(np.nan)\n",
    "    \n",
    "jobs_df = pd.DataFrame({\n",
    "    'Job Title': job_titles,\n",
    "    'Location': locations,\n",
    "    'Experience': experiences,\n",
    "    'Salary Range': salaryranqes\n",
    "})\n",
    "jobs_df.head(10)"
   ]
  },
  {
   "cell_type": "code",
   "execution_count": 55,
   "metadata": {},
   "outputs": [
    {
     "data": {
      "text/plain": [
       "(40, 4)"
      ]
     },
     "execution_count": 55,
     "metadata": {},
     "output_type": "execute_result"
    }
   ],
   "source": [
    "jobs_df.shape"
   ]
  },
  {
   "cell_type": "code",
   "execution_count": 67,
   "metadata": {},
   "outputs": [],
   "source": [
    "total_data = pd.DataFrame()\n",
    "for j in range(0,227):\n",
    "    job_titles = []\n",
    "    locations = []\n",
    "    experiences = []\n",
    "    salaryranqes = []\n",
    "    for i in soup.find_all('div', class_='internship_meta'):\n",
    "        # Extracting job title, location, experience, and salary range  \n",
    "        job_title = i.find('h3')\n",
    "        if job_title:\n",
    "            job_titles.append(job_title.text.strip())\n",
    "        else:\n",
    "            job_titles.append(np.nan)\n",
    "        #location\n",
    "        loc_p = i.find('p', class_='locations')\n",
    "        loc_a = loc_p.find('a') if loc_p else None\n",
    "        if loc_a:\n",
    "            locations.append(loc_a.text.strip())\n",
    "        else:\n",
    "            locations.append(np.nan)\n",
    "        #experience\n",
    "        exp_div = i.find_all('div', class_='row-1-item')\n",
    "        exp_span = exp_div[1].find('span') if exp_div else None\n",
    "        if exp_span and not exp_span.get('class'):\n",
    "            experience = exp_span.text.strip()\n",
    "            experiences.append(experience)\n",
    "        else:\n",
    "            experiences.append(np.nan)\n",
    "        \n",
    "        salary = i.find('span', class_='desktop')\n",
    "        if salary:\n",
    "            salaryranqes.append(salary.text.strip())\n",
    "        else:\n",
    "            salaryranqes.append(np.nan)\n",
    "        \n",
    "    jobs_df = pd.DataFrame({\n",
    "        'Job Title': job_titles,\n",
    "        'Location': locations,\n",
    "        'Experience': experiences,\n",
    "        'Salary Range': salaryranqes\n",
    "    })\n",
    "    total_data = pd.concat([total_data, jobs_df], ignore_index=True)\n"
   ]
  },
  {
   "cell_type": "code",
   "execution_count": 68,
   "metadata": {},
   "outputs": [
    {
     "data": {
      "text/plain": [
       "(9080, 4)"
      ]
     },
     "execution_count": 68,
     "metadata": {},
     "output_type": "execute_result"
    }
   ],
   "source": [
    "total_data.shape"
   ]
  }
 ],
 "metadata": {
  "kernelspec": {
   "display_name": "Python 3",
   "language": "python",
   "name": "python3"
  },
  "language_info": {
   "codemirror_mode": {
    "name": "ipython",
    "version": 3
   },
   "file_extension": ".py",
   "mimetype": "text/x-python",
   "name": "python",
   "nbconvert_exporter": "python",
   "pygments_lexer": "ipython3",
   "version": "3.12.5"
  }
 },
 "nbformat": 4,
 "nbformat_minor": 5
}
