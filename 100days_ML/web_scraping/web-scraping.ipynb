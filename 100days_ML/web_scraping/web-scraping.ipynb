{
 "cells": [
  {
   "cell_type": "code",
   "execution_count": 2,
   "id": "0cb8b4af",
   "metadata": {},
   "outputs": [
    {
     "name": "stdout",
     "output_type": "stream",
     "text": [
      "Requirement already satisfied: bs4 in c:\\users\\mohot\\appdata\\local\\programs\\python\\python312\\lib\\site-packages (0.0.2)Note: you may need to restart the kernel to use updated packages.\n",
      "\n",
      "Requirement already satisfied: beautifulsoup4 in c:\\users\\mohot\\appdata\\local\\programs\\python\\python312\\lib\\site-packages (from bs4) (4.13.4)\n",
      "Requirement already satisfied: soupsieve>1.2 in c:\\users\\mohot\\appdata\\local\\programs\\python\\python312\\lib\\site-packages (from beautifulsoup4->bs4) (2.7)\n",
      "Requirement already satisfied: typing-extensions>=4.0.0 in c:\\users\\mohot\\appdata\\local\\programs\\python\\python312\\lib\\site-packages (from beautifulsoup4->bs4) (4.12.2)\n"
     ]
    },
    {
     "name": "stderr",
     "output_type": "stream",
     "text": [
      "\n",
      "[notice] A new release of pip is available: 24.3.1 -> 25.1.1\n",
      "[notice] To update, run: python.exe -m pip install --upgrade pip\n"
     ]
    }
   ],
   "source": [
    "%pip install bs4\n"
   ]
  },
  {
   "cell_type": "code",
   "execution_count": 3,
   "id": "d23c0adb",
   "metadata": {},
   "outputs": [],
   "source": [
    "import pandas as pd\n",
    "import requests\n",
    "import numpy as np\n",
    "from bs4 import BeautifulSoup"
   ]
  },
  {
   "cell_type": "code",
   "execution_count": 4,
   "id": "804bedc8",
   "metadata": {},
   "outputs": [],
   "source": [
    "headers = {\n",
    "    'User-Agent' : 'Mozilla/5.0 (Windows NT 10.0; Win64; x64) AppleWebKit/537.36 (KHTML, like Gecko) Chrome/137.0.0.0 Safari/537.36'\n",
    "}\n"
   ]
  },
  {
   "cell_type": "code",
   "execution_count": 15,
   "id": "a2d300c6",
   "metadata": {},
   "outputs": [],
   "source": [
    "url = 'https://internshala.com/jobs/page-2/'"
   ]
  },
  {
   "cell_type": "code",
   "execution_count": 16,
   "id": "ad488602",
   "metadata": {},
   "outputs": [],
   "source": [
    "\n",
    "webpage=requests.get(url,headers=headers).text\n"
   ]
  },
  {
   "cell_type": "code",
   "execution_count": 17,
   "id": "23257c24",
   "metadata": {},
   "outputs": [],
   "source": [
    "soup = BeautifulSoup(webpage, 'html.parser')"
   ]
  },
  {
   "cell_type": "code",
   "execution_count": 27,
   "metadata": {},
   "outputs": [
    {
     "data": {
      "text/plain": [
       "'\\nManagement Trainee\\n'"
      ]
     },
     "execution_count": 27,
     "metadata": {},
     "output_type": "execute_result"
    }
   ],
   "source": [
    "soup.find_all('h3')[0].text\n"
   ]
  },
  {
   "cell_type": "code",
   "execution_count": 28,
   "id": "bd84c299",
   "metadata": {},
   "outputs": [
    {
     "name": "stdout",
     "output_type": "stream",
     "text": [
      "Management Trainee\n",
      "Young Leader (Management Trainee)\n",
      "Omni Sport Advisor\n",
      "Inside Sales Associate\n",
      "Omni Sport Advisor\n",
      "Field Sales Executive\n",
      "Business Development Executive\n",
      "Customer Service Associate\n",
      "Program Manager\n",
      "Executive - Relationship Manager\n",
      "Customer Service Executive\n",
      "Marketing Operations Executive\n",
      "Junior Social Media Marketing Executive\n",
      "Customer Service Executive\n",
      "UK Recruitment Consultant\n",
      "Customer Support Associate\n",
      "Evaluation Engineer\n",
      "Business Development Associate\n",
      "Business Development Executive\n",
      "Telecaller\n",
      "Field Sales Trainee\n",
      "Field Sales Trainee\n",
      "Sales Manager\n",
      "Junior Field Sales Trainee\n",
      "Strategic Partnership Executive\n",
      "Executive Assistant To Director\n",
      "Pre-Sales (US)\n",
      "Junior Architect\n",
      "Customer Service Associate\n",
      "Business Development Manager\n",
      "Business Development Associate (Ops)\n",
      "Business Development Associate\n",
      "Graduate Trainee\n",
      "Business Development Executive\n",
      "Business Development Associate\n",
      "Graduate Trainee - Sales\n",
      "Field Sales Executive\n",
      "Customer Acquisition Associate\n",
      "Business Development Executive\n",
      "Junior Talent Acquisition Executive\n"
     ]
    }
   ],
   "source": [
    "for i in soup.find_all('h3'):\n",
    "    print(i.text.strip())"
   ]
  },
  {
   "cell_type": "code",
   "execution_count": null,
   "id": "6bc780c5",
   "metadata": {},
   "outputs": [],
   "source": []
  },
  {
   "cell_type": "code",
   "execution_count": null,
   "metadata": {},
   "outputs": [],
   "source": []
  },
  {
   "cell_type": "code",
   "execution_count": null,
   "id": "8f33955a",
   "metadata": {},
   "outputs": [],
   "source": []
  },
  {
   "cell_type": "code",
   "execution_count": null,
   "metadata": {},
   "outputs": [],
   "source": []
  },
  {
   "cell_type": "code",
   "execution_count": null,
   "metadata": {},
   "outputs": [],
   "source": []
  },
  {
   "cell_type": "code",
   "execution_count": null,
   "metadata": {},
   "outputs": [],
   "source": []
  },
  {
   "cell_type": "code",
   "execution_count": null,
   "metadata": {},
   "outputs": [],
   "source": []
  }
 ],
 "metadata": {
  "kernelspec": {
   "display_name": "Python 3",
   "language": "python",
   "name": "python3"
  },
  "language_info": {
   "codemirror_mode": {
    "name": "ipython",
    "version": 3
   },
   "file_extension": ".py",
   "mimetype": "text/x-python",
   "name": "python",
   "nbconvert_exporter": "python",
   "pygments_lexer": "ipython3",
   "version": "3.12.5"
  }
 },
 "nbformat": 4,
 "nbformat_minor": 5
}
