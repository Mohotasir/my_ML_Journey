{
 "cells": [
  {
   "cell_type": "markdown",
   "id": "2e4a295e",
   "metadata": {},
   "source": [
    "EDA is the process of analyzing and summarizing datasets using statistics and visualizations to better understand the data before building machine learning models.\n",
    "\n"
   ]
  },
  {
   "cell_type": "code",
   "execution_count": 2,
   "id": "a1d81ae7",
   "metadata": {},
   "outputs": [],
   "source": [
    "import pandas as pd\n",
    "import seaborn as sns\n",
    "import matplotlib.pyplot as plt"
   ]
  },
  {
   "cell_type": "code",
   "execution_count": 14,
   "id": "e927a121",
   "metadata": {},
   "outputs": [],
   "source": [
    "df = pd.read_csv('../../work_withP_API/top_rated_movies.csv')"
   ]
  },
  {
   "cell_type": "code",
   "execution_count": 15,
   "id": "232a0c01",
   "metadata": {},
   "outputs": [
    {
     "data": {
      "text/html": [
       "<div>\n",
       "<style scoped>\n",
       "    .dataframe tbody tr th:only-of-type {\n",
       "        vertical-align: middle;\n",
       "    }\n",
       "\n",
       "    .dataframe tbody tr th {\n",
       "        vertical-align: top;\n",
       "    }\n",
       "\n",
       "    .dataframe thead th {\n",
       "        text-align: right;\n",
       "    }\n",
       "</style>\n",
       "<table border=\"1\" class=\"dataframe\">\n",
       "  <thead>\n",
       "    <tr style=\"text-align: right;\">\n",
       "      <th></th>\n",
       "      <th>Unnamed: 0</th>\n",
       "      <th>id</th>\n",
       "      <th>title</th>\n",
       "      <th>overview</th>\n",
       "      <th>vote_average</th>\n",
       "      <th>release_date</th>\n",
       "      <th>vote_count</th>\n",
       "    </tr>\n",
       "  </thead>\n",
       "  <tbody>\n",
       "    <tr>\n",
       "      <th>0</th>\n",
       "      <td>0</td>\n",
       "      <td>278</td>\n",
       "      <td>The Shawshank Redemption</td>\n",
       "      <td>Imprisoned in the 1940s for the double murder ...</td>\n",
       "      <td>8.712</td>\n",
       "      <td>1994-09-23</td>\n",
       "      <td>28487</td>\n",
       "    </tr>\n",
       "    <tr>\n",
       "      <th>1</th>\n",
       "      <td>1</td>\n",
       "      <td>238</td>\n",
       "      <td>The Godfather</td>\n",
       "      <td>Spanning the years 1945 to 1955, a chronicle o...</td>\n",
       "      <td>8.687</td>\n",
       "      <td>1972-03-14</td>\n",
       "      <td>21577</td>\n",
       "    </tr>\n",
       "    <tr>\n",
       "      <th>2</th>\n",
       "      <td>2</td>\n",
       "      <td>803796</td>\n",
       "      <td>KPop Demon Hunters</td>\n",
       "      <td>When K-pop superstars Rumi, Mira and Zoey aren...</td>\n",
       "      <td>8.599</td>\n",
       "      <td>2025-06-20</td>\n",
       "      <td>334</td>\n",
       "    </tr>\n",
       "    <tr>\n",
       "      <th>3</th>\n",
       "      <td>3</td>\n",
       "      <td>240</td>\n",
       "      <td>The Godfather Part II</td>\n",
       "      <td>In the continuing saga of the Corleone crime f...</td>\n",
       "      <td>8.571</td>\n",
       "      <td>1974-12-20</td>\n",
       "      <td>13032</td>\n",
       "    </tr>\n",
       "    <tr>\n",
       "      <th>4</th>\n",
       "      <td>4</td>\n",
       "      <td>424</td>\n",
       "      <td>Schindler's List</td>\n",
       "      <td>The true story of how businessman Oskar Schind...</td>\n",
       "      <td>8.564</td>\n",
       "      <td>1993-12-15</td>\n",
       "      <td>16512</td>\n",
       "    </tr>\n",
       "  </tbody>\n",
       "</table>\n",
       "</div>"
      ],
      "text/plain": [
       "   Unnamed: 0      id                     title  \\\n",
       "0           0     278  The Shawshank Redemption   \n",
       "1           1     238             The Godfather   \n",
       "2           2  803796        KPop Demon Hunters   \n",
       "3           3     240     The Godfather Part II   \n",
       "4           4     424          Schindler's List   \n",
       "\n",
       "                                            overview  vote_average  \\\n",
       "0  Imprisoned in the 1940s for the double murder ...         8.712   \n",
       "1  Spanning the years 1945 to 1955, a chronicle o...         8.687   \n",
       "2  When K-pop superstars Rumi, Mira and Zoey aren...         8.599   \n",
       "3  In the continuing saga of the Corleone crime f...         8.571   \n",
       "4  The true story of how businessman Oskar Schind...         8.564   \n",
       "\n",
       "  release_date  vote_count  \n",
       "0   1994-09-23       28487  \n",
       "1   1972-03-14       21577  \n",
       "2   2025-06-20         334  \n",
       "3   1974-12-20       13032  \n",
       "4   1993-12-15       16512  "
      ]
     },
     "execution_count": 15,
     "metadata": {},
     "output_type": "execute_result"
    }
   ],
   "source": [
    "df.head()"
   ]
  },
  {
   "cell_type": "code",
   "execution_count": 17,
   "id": "f0e36b0a",
   "metadata": {},
   "outputs": [],
   "source": [
    "df = df.drop(columns=['Unnamed: 0'])"
   ]
  },
  {
   "cell_type": "code",
   "execution_count": 18,
   "id": "1de3d970",
   "metadata": {},
   "outputs": [
    {
     "data": {
      "text/html": [
       "<div>\n",
       "<style scoped>\n",
       "    .dataframe tbody tr th:only-of-type {\n",
       "        vertical-align: middle;\n",
       "    }\n",
       "\n",
       "    .dataframe tbody tr th {\n",
       "        vertical-align: top;\n",
       "    }\n",
       "\n",
       "    .dataframe thead th {\n",
       "        text-align: right;\n",
       "    }\n",
       "</style>\n",
       "<table border=\"1\" class=\"dataframe\">\n",
       "  <thead>\n",
       "    <tr style=\"text-align: right;\">\n",
       "      <th></th>\n",
       "      <th>id</th>\n",
       "      <th>title</th>\n",
       "      <th>overview</th>\n",
       "      <th>vote_average</th>\n",
       "      <th>release_date</th>\n",
       "      <th>vote_count</th>\n",
       "    </tr>\n",
       "  </thead>\n",
       "  <tbody>\n",
       "    <tr>\n",
       "      <th>0</th>\n",
       "      <td>278</td>\n",
       "      <td>The Shawshank Redemption</td>\n",
       "      <td>Imprisoned in the 1940s for the double murder ...</td>\n",
       "      <td>8.712</td>\n",
       "      <td>1994-09-23</td>\n",
       "      <td>28487</td>\n",
       "    </tr>\n",
       "    <tr>\n",
       "      <th>1</th>\n",
       "      <td>238</td>\n",
       "      <td>The Godfather</td>\n",
       "      <td>Spanning the years 1945 to 1955, a chronicle o...</td>\n",
       "      <td>8.687</td>\n",
       "      <td>1972-03-14</td>\n",
       "      <td>21577</td>\n",
       "    </tr>\n",
       "    <tr>\n",
       "      <th>2</th>\n",
       "      <td>803796</td>\n",
       "      <td>KPop Demon Hunters</td>\n",
       "      <td>When K-pop superstars Rumi, Mira and Zoey aren...</td>\n",
       "      <td>8.599</td>\n",
       "      <td>2025-06-20</td>\n",
       "      <td>334</td>\n",
       "    </tr>\n",
       "    <tr>\n",
       "      <th>3</th>\n",
       "      <td>240</td>\n",
       "      <td>The Godfather Part II</td>\n",
       "      <td>In the continuing saga of the Corleone crime f...</td>\n",
       "      <td>8.571</td>\n",
       "      <td>1974-12-20</td>\n",
       "      <td>13032</td>\n",
       "    </tr>\n",
       "    <tr>\n",
       "      <th>4</th>\n",
       "      <td>424</td>\n",
       "      <td>Schindler's List</td>\n",
       "      <td>The true story of how businessman Oskar Schind...</td>\n",
       "      <td>8.564</td>\n",
       "      <td>1993-12-15</td>\n",
       "      <td>16512</td>\n",
       "    </tr>\n",
       "  </tbody>\n",
       "</table>\n",
       "</div>"
      ],
      "text/plain": [
       "       id                     title  \\\n",
       "0     278  The Shawshank Redemption   \n",
       "1     238             The Godfather   \n",
       "2  803796        KPop Demon Hunters   \n",
       "3     240     The Godfather Part II   \n",
       "4     424          Schindler's List   \n",
       "\n",
       "                                            overview  vote_average  \\\n",
       "0  Imprisoned in the 1940s for the double murder ...         8.712   \n",
       "1  Spanning the years 1945 to 1955, a chronicle o...         8.687   \n",
       "2  When K-pop superstars Rumi, Mira and Zoey aren...         8.599   \n",
       "3  In the continuing saga of the Corleone crime f...         8.571   \n",
       "4  The true story of how businessman Oskar Schind...         8.564   \n",
       "\n",
       "  release_date  vote_count  \n",
       "0   1994-09-23       28487  \n",
       "1   1972-03-14       21577  \n",
       "2   2025-06-20         334  \n",
       "3   1974-12-20       13032  \n",
       "4   1993-12-15       16512  "
      ]
     },
     "execution_count": 18,
     "metadata": {},
     "output_type": "execute_result"
    }
   ],
   "source": [
    "df.head()"
   ]
  },
  {
   "cell_type": "code",
   "execution_count": 24,
   "id": "3cee9491",
   "metadata": {},
   "outputs": [
    {
     "data": {
      "text/plain": [
       "(array([348.,  53.,  43.,  32.,  27.,  16.,   6.,   9.,   2.,   3.]),\n",
       " array([  302. ,  4033.1,  7764.2, 11495.3, 15226.4, 18957.5, 22688.6,\n",
       "        26419.7, 30150.8, 33881.9, 37613. ]),\n",
       " <BarContainer object of 10 artists>)"
      ]
     },
     "execution_count": 24,
     "metadata": {},
     "output_type": "execute_result"
    },
    {
     "data": {
      "image/png": "[encoded data removed]",
      "text/plain": [
       "<Figure size 640x480 with 1 Axes>"
      ]
     },
     "metadata": {},
     "output_type": "display_data"
    }
   ],
   "source": [
    "plt.hist(df['vote_count'])"
   ]
  },
  {
   "cell_type": "code",
   "execution_count": 27,
   "id": "2f14ae0b",
   "metadata": {},
   "outputs": [
    {
     "data": {
      "text/plain": [
       "<seaborn.axisgrid.FacetGrid at 0x165c47f49b0>"
      ]
     },
     "execution_count": 27,
     "metadata": {},
     "output_type": "execute_result"
    },
    {
     "data": {
      "image/png": "[encoded data removed]",
      "text/plain": [
       "<Figure size 500x500 with 1 Axes>"
      ]
     },
     "metadata": {},
     "output_type": "display_data"
    }
   ],
   "source": [
    "sns.displot(df['vote_count'], kde=True)"
   ]
  },
  {
   "cell_type": "markdown",
   "id": "99afb18d",
   "metadata": {},
   "source": [
    "Use Boxplot When we work with noisy data :\n",
    "You want to check skewness or symmetry.\n",
    "\n",
    "You're comparing distributions between groups (e.g., male vs female).\n",
    "\n",
    "You suspect outliers in your data (e.g., salaries, prices)."
   ]
  },
  {
   "cell_type": "code",
   "execution_count": 30,
   "id": "2b9460e7",
   "metadata": {},
   "outputs": [
    {
     "data": {
      "text/plain": [
       "<Axes: ylabel='vote_count'>"
      ]
     },
     "execution_count": 30,
     "metadata": {},
     "output_type": "execute_result"
    },
    {
     "data": {
      "image/png": "[encoded data removed]",
      "text/plain": [
       "<Figure size 640x480 with 1 Axes>"
      ]
     },
     "metadata": {},
     "output_type": "display_data"
    }
   ],
   "source": [
    "sns.boxplot(df['vote_count'])"
   ]
  },
  {
   "cell_type": "code",
   "execution_count": 31,
   "id": "df20e472",
   "metadata": {},
   "outputs": [
    {
     "data": {
      "text/plain": [
       "<Axes: xlabel='vote_average'>"
      ]
     },
     "execution_count": 31,
     "metadata": {},
     "output_type": "execute_result"
    },
    {
     "data": {
      "image/png": "[encoded data removed]",
      "text/plain": [
       "<Figure size 640x480 with 1 Axes>"
      ]
     },
     "metadata": {},
     "output_type": "display_data"
    }
   ],
   "source": [
    "sns.boxplot(x=df['vote_average'])"
   ]
  },
  {
   "cell_type": "code",
   "execution_count": null,
   "id": "a3e0f145",
   "metadata": {},
   "outputs": [],
   "source": []
  }
 ],
 "metadata": {
  "kernelspec": {
   "display_name": "Python 3",
   "language": "python",
   "name": "python3"
  },
  "language_info": {
   "codemirror_mode": {
    "name": "ipython",
    "version": 3
   },
   "file_extension": ".py",
   "mimetype": "text/x-python",
   "name": "python",
   "nbconvert_exporter": "python",
   "pygments_lexer": "ipython3",
   "version": "3.12.5"
  }
 },
 "nbformat": 4,
 "nbformat_minor": 5
}
