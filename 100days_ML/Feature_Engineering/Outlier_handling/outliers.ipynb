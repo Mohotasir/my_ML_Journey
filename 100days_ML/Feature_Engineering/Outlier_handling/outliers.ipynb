{
 "cells": [
  {
   "cell_type": "markdown",
   "id": "2aecd707",
   "metadata": {},
   "source": [
    "An outlier is a data point that is significantly different from other observations in a dataset. It lies far outside the general distribution of the data."
   ]
  },
  {
   "cell_type": "markdown",
   "id": "3f0a4a8e",
   "metadata": {},
   "source": [
    "| Type                     | Description                                                                                 |\n",
    "| ------------------------ | ------------------------------------------------------------------------------------------- |\n",
    "| **Univariate Outlier**   | Outlier in a single variable.                                                               |\n",
    "| **Multivariate Outlier** | Outlier in the relationship between two or more variables.                                  |\n",
    "| **Global Outlier**       | Deviates from entire dataset.                                                               |\n",
    "| **Contextual Outlier**   | Normal in one context, outlier in another (e.g., 30°C normal in summer, outlier in winter). |\n",
    "| **Collective Outlier**   | A group of points that are outliers together.                                               |\n"
   ]
  },
  {
   "cell_type": "markdown",
   "id": "143f9baa",
   "metadata": {},
   "source": [
    "| Plot Type        | Use                                  |\n",
    "| ---------------- | ------------------------------------ |\n",
    "| **Box Plot**     | Quick view of outliers using IQR.    |\n",
    "| **Histogram**    | Spot extreme skew or gaps.           |\n",
    "| **Scatter Plot** | Identify outliers in bivariate data. |\n",
    "| **Z-score plot** | Highlight extreme standard scores.   |\n"
   ]
  },
  {
   "cell_type": "markdown",
   "id": "5e89b7b4",
   "metadata": {},
   "source": [
    "🔧 How to Handle Outliers\n"
   ]
  },
  {
   "cell_type": "markdown",
   "id": "2fa41c42",
   "metadata": {},
   "source": [
    "| Method                  | When to Use                                                                  |\n",
    "| ----------------------- | ---------------------------------------------------------------------------- |\n",
    "| **Remove**              | When they are clearly errors or not useful (e.g., data entry mistakes).      |\n",
    "| **Cap (Winsorization)** | Replace extreme values with upper/lower percentiles (e.g., 95th percentile). |\n",
    "| **Transform**           | Apply log, square root, or Box-Cox transform to reduce the effect.           |\n",
    "| **Impute**              | Replace with mean, median, or prediction using ML.                           |\n",
    "| **Treat Separately**    | For example, flag outliers in a new column.                                  |\n",
    "| **Use robust models**   | Like Random Forests or models based on medians instead of means.             |\n"
   ]
  },
  {
   "cell_type": "markdown",
   "id": "3010a153",
   "metadata": {},
   "source": [
    "IQR Method (Interquartile Range)"
   ]
  },
  {
   "cell_type": "code",
   "execution_count": null,
   "id": "c215e06f",
   "metadata": {},
   "outputs": [],
   "source": [
    "import pandas as pd\n",
    "df = pd.read_csv('x')\n",
    "\n",
    "Q1 = df['Age'].quantile(0.25)\n",
    "Q3 = df['Age'].quantile(0.75)\n",
    "\n",
    "IQR = Q3 - Q1\n",
    "\n",
    "lower = Q1 - 1.5 * IQR\n",
    "upper = Q3 + 1.5 * IQR\n",
    "\n",
    "outliers = df[(df['Age'] < lower) | (df['Age'] > upper)]\n"
   ]
  },
  {
   "cell_type": "markdown",
   "id": "9b08a9c7",
   "metadata": {},
   "source": [
    "## 4 main techniques : \n",
    "* Z-score treatment\n",
    "* IQR based filtering\n",
    "* percentile\n",
    "* Winsorization"
   ]
  },
  {
   "cell_type": "code",
   "execution_count": null,
   "id": "12460c68",
   "metadata": {},
   "outputs": [],
   "source": []
  }
 ],
 "metadata": {
  "language_info": {
   "name": "python"
  }
 },
 "nbformat": 4,
 "nbformat_minor": 5
}
