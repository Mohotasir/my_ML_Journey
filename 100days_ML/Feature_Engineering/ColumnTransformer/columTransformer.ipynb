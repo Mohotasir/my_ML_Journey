{
 "cells": [
  {
   "cell_type": "code",
   "execution_count": 6,
   "id": "d5681b20",
   "metadata": {},
   "outputs": [],
   "source": [
    "import pandas as pd\n",
    "import numpy as np"
   ]
  },
  {
   "cell_type": "code",
   "execution_count": 2,
   "id": "238fed6e",
   "metadata": {},
   "outputs": [],
   "source": [
    "df = pd.read_csv('covid_toy.csv')"
   ]
  },
  {
   "cell_type": "code",
   "execution_count": 4,
   "id": "e534e8de",
   "metadata": {},
   "outputs": [
    {
     "data": {
      "text/html": [
       "<div>\n",
       "<style scoped>\n",
       "    .dataframe tbody tr th:only-of-type {\n",
       "        vertical-align: middle;\n",
       "    }\n",
       "\n",
       "    .dataframe tbody tr th {\n",
       "        vertical-align: top;\n",
       "    }\n",
       "\n",
       "    .dataframe thead th {\n",
       "        text-align: right;\n",
       "    }\n",
       "</style>\n",
       "<table border=\"1\" class=\"dataframe\">\n",
       "  <thead>\n",
       "    <tr style=\"text-align: right;\">\n",
       "      <th></th>\n",
       "      <th>age</th>\n",
       "      <th>gender</th>\n",
       "      <th>fever</th>\n",
       "      <th>cough</th>\n",
       "      <th>city</th>\n",
       "      <th>has_covid</th>\n",
       "    </tr>\n",
       "  </thead>\n",
       "  <tbody>\n",
       "    <tr>\n",
       "      <th>0</th>\n",
       "      <td>60</td>\n",
       "      <td>Male</td>\n",
       "      <td>103.0</td>\n",
       "      <td>Mild</td>\n",
       "      <td>Kolkata</td>\n",
       "      <td>No</td>\n",
       "    </tr>\n",
       "    <tr>\n",
       "      <th>1</th>\n",
       "      <td>27</td>\n",
       "      <td>Male</td>\n",
       "      <td>100.0</td>\n",
       "      <td>Mild</td>\n",
       "      <td>Delhi</td>\n",
       "      <td>Yes</td>\n",
       "    </tr>\n",
       "    <tr>\n",
       "      <th>2</th>\n",
       "      <td>42</td>\n",
       "      <td>Male</td>\n",
       "      <td>101.0</td>\n",
       "      <td>Mild</td>\n",
       "      <td>Delhi</td>\n",
       "      <td>No</td>\n",
       "    </tr>\n",
       "    <tr>\n",
       "      <th>3</th>\n",
       "      <td>31</td>\n",
       "      <td>Female</td>\n",
       "      <td>98.0</td>\n",
       "      <td>Mild</td>\n",
       "      <td>Kolkata</td>\n",
       "      <td>No</td>\n",
       "    </tr>\n",
       "    <tr>\n",
       "      <th>4</th>\n",
       "      <td>65</td>\n",
       "      <td>Female</td>\n",
       "      <td>101.0</td>\n",
       "      <td>Mild</td>\n",
       "      <td>Mumbai</td>\n",
       "      <td>No</td>\n",
       "    </tr>\n",
       "  </tbody>\n",
       "</table>\n",
       "</div>"
      ],
      "text/plain": [
       "   age  gender  fever cough     city has_covid\n",
       "0   60    Male  103.0  Mild  Kolkata        No\n",
       "1   27    Male  100.0  Mild    Delhi       Yes\n",
       "2   42    Male  101.0  Mild    Delhi        No\n",
       "3   31  Female   98.0  Mild  Kolkata        No\n",
       "4   65  Female  101.0  Mild   Mumbai        No"
      ]
     },
     "execution_count": 4,
     "metadata": {},
     "output_type": "execute_result"
    }
   ],
   "source": [
    "df.shape\n",
    "df.head()"
   ]
  },
  {
   "cell_type": "code",
   "execution_count": 5,
   "id": "d78f1629",
   "metadata": {},
   "outputs": [
    {
     "data": {
      "text/plain": [
       "age           0\n",
       "gender        0\n",
       "fever        10\n",
       "cough         0\n",
       "city          0\n",
       "has_covid     0\n",
       "dtype: int64"
      ]
     },
     "execution_count": 5,
     "metadata": {},
     "output_type": "execute_result"
    }
   ],
   "source": [
    "df.isnull().sum()"
   ]
  },
  {
   "cell_type": "code",
   "execution_count": 7,
   "id": "3ec59597",
   "metadata": {},
   "outputs": [],
   "source": [
    "from sklearn.impute import SimpleImputer\n",
    "from sklearn.preprocessing import OneHotEncoder\n",
    "from sklearn.preprocessing import OrdinalEncoder"
   ]
  },
  {
   "cell_type": "code",
   "execution_count": 8,
   "id": "6377958c",
   "metadata": {},
   "outputs": [],
   "source": [
    "from sklearn.model_selection import train_test_split\n"
   ]
  },
  {
   "cell_type": "code",
   "execution_count": 11,
   "id": "895f25a1",
   "metadata": {},
   "outputs": [],
   "source": [
    "x_train, x_test, y_train, y_test = train_test_split(df.iloc[:, 0:5], df.iloc[:, -1], test_size=0.2)"
   ]
  },
  {
   "cell_type": "markdown",
   "id": "3614db09",
   "metadata": {},
   "source": [
    "Without  column trnsformer :"
   ]
  },
  {
   "cell_type": "code",
   "execution_count": 20,
   "id": "72550ebd",
   "metadata": {},
   "outputs": [],
   "source": [
    "si = SimpleImputer()\n",
    "x_train_fever = si.fit_transform(x_train[['fever']])\n",
    "x_test_fever = si.transform(x_test[['fever']])"
   ]
  },
  {
   "cell_type": "code",
   "execution_count": 23,
   "id": "64b16ffa",
   "metadata": {},
   "outputs": [
    {
     "data": {
      "text/plain": [
       "(80, 1)"
      ]
     },
     "execution_count": 23,
     "metadata": {},
     "output_type": "execute_result"
    }
   ],
   "source": [
    "\n",
    "oe = OrdinalEncoder(categories=[['Mild','Strong']])\n",
    "x_train_cough = oe.fit_transform(x_train[['cough']])\n",
    "x_test_cough = oe.transform(x_test[['cough']])\n",
    "x_train_cough.shape"
   ]
  },
  {
   "cell_type": "code",
   "execution_count": 24,
   "id": "cb347d20",
   "metadata": {},
   "outputs": [],
   "source": [
    "ohe = OneHotEncoder(sparse_output=False , drop='first')\n",
    "x_train_gender_city = ohe.fit_transform(x_train[['gender', 'city']])\n",
    "x_test_gender_city = ohe.transform(x_test[['gender', 'city']])"
   ]
  },
  {
   "cell_type": "code",
   "execution_count": 29,
   "id": "6768bcbe",
   "metadata": {},
   "outputs": [
    {
     "data": {
      "text/plain": [
       "array([[1., 0., 0., 1.],\n",
       "       [0., 0., 0., 1.],\n",
       "       [1., 1., 0., 0.],\n",
       "       [0., 0., 1., 0.],\n",
       "       [1., 0., 0., 0.],\n",
       "       [0., 1., 0., 0.],\n",
       "       [1., 0., 1., 0.],\n",
       "       [0., 1., 0., 0.],\n",
       "       [0., 0., 1., 0.],\n",
       "       [0., 0., 0., 1.],\n",
       "       [1., 0., 0., 0.],\n",
       "       [0., 0., 1., 0.],\n",
       "       [0., 0., 1., 0.],\n",
       "       [1., 0., 0., 0.],\n",
       "       [1., 1., 0., 0.],\n",
       "       [1., 0., 1., 0.],\n",
       "       [0., 0., 1., 0.],\n",
       "       [1., 0., 0., 0.],\n",
       "       [0., 0., 0., 0.],\n",
       "       [0., 0., 1., 0.],\n",
       "       [0., 0., 0., 1.],\n",
       "       [0., 0., 1., 0.],\n",
       "       [0., 0., 0., 0.],\n",
       "       [0., 0., 1., 0.],\n",
       "       [0., 0., 1., 0.],\n",
       "       [0., 0., 0., 0.],\n",
       "       [0., 0., 0., 0.],\n",
       "       [0., 0., 0., 0.],\n",
       "       [1., 0., 1., 0.],\n",
       "       [0., 0., 0., 1.],\n",
       "       [0., 1., 0., 0.],\n",
       "       [0., 0., 0., 0.],\n",
       "       [1., 0., 0., 1.],\n",
       "       [0., 0., 0., 1.],\n",
       "       [0., 0., 0., 1.],\n",
       "       [1., 0., 1., 0.],\n",
       "       [0., 1., 0., 0.],\n",
       "       [0., 0., 1., 0.],\n",
       "       [1., 0., 0., 0.],\n",
       "       [1., 0., 1., 0.],\n",
       "       [1., 0., 1., 0.],\n",
       "       [0., 0., 1., 0.],\n",
       "       [0., 1., 0., 0.],\n",
       "       [1., 0., 0., 0.],\n",
       "       [0., 0., 0., 1.],\n",
       "       [0., 0., 1., 0.],\n",
       "       [0., 1., 0., 0.],\n",
       "       [0., 0., 0., 0.],\n",
       "       [0., 0., 1., 0.],\n",
       "       [0., 0., 0., 0.],\n",
       "       [1., 0., 0., 1.],\n",
       "       [0., 0., 0., 0.],\n",
       "       [0., 1., 0., 0.],\n",
       "       [0., 0., 0., 1.],\n",
       "       [1., 1., 0., 0.],\n",
       "       [1., 0., 0., 1.],\n",
       "       [0., 1., 0., 0.],\n",
       "       [0., 1., 0., 0.],\n",
       "       [0., 0., 0., 0.],\n",
       "       [1., 0., 0., 0.],\n",
       "       [0., 0., 0., 1.],\n",
       "       [1., 0., 1., 0.],\n",
       "       [0., 0., 0., 1.],\n",
       "       [0., 0., 0., 0.],\n",
       "       [0., 0., 1., 0.],\n",
       "       [1., 0., 0., 0.],\n",
       "       [1., 0., 0., 0.],\n",
       "       [0., 1., 0., 0.],\n",
       "       [0., 0., 1., 0.],\n",
       "       [0., 0., 0., 1.],\n",
       "       [1., 0., 0., 0.],\n",
       "       [0., 0., 0., 0.],\n",
       "       [1., 0., 1., 0.],\n",
       "       [1., 0., 0., 0.],\n",
       "       [1., 1., 0., 0.],\n",
       "       [0., 0., 0., 0.],\n",
       "       [1., 0., 1., 0.],\n",
       "       [1., 1., 0., 0.],\n",
       "       [0., 1., 0., 0.],\n",
       "       [1., 0., 0., 0.]])"
      ]
     },
     "execution_count": 29,
     "metadata": {},
     "output_type": "execute_result"
    }
   ],
   "source": [
    "x_train_gender_city"
   ]
  },
  {
   "cell_type": "code",
   "execution_count": 30,
   "id": "fc5673b5",
   "metadata": {},
   "outputs": [],
   "source": [
    "x_train_age = x_train.drop(columns=['fever', 'cough','gender', 'city']).values\n",
    "x_test_age = x_test.drop(columns=['fever', 'cough','gender', 'city']).values\n"
   ]
  },
  {
   "cell_type": "code",
   "execution_count": 31,
   "id": "e8b6987c",
   "metadata": {},
   "outputs": [],
   "source": [
    "x_train_transformed = np.concatenate((x_train_age, x_train_fever, x_train_cough, x_train_gender_city), axis=1)\n",
    "x_test_transformed = np.concatenate((x_test_age, x_test_fever, x_test_cough,x_test_gender_city), axis=1)"
   ]
  },
  {
   "cell_type": "code",
   "execution_count": 32,
   "id": "fa5c2d73",
   "metadata": {},
   "outputs": [
    {
     "data": {
      "text/plain": [
       "(80, 7)"
      ]
     },
     "execution_count": 32,
     "metadata": {},
     "output_type": "execute_result"
    }
   ],
   "source": [
    "x_train_transformed.shape"
   ]
  },
  {
   "cell_type": "code",
   "execution_count": 33,
   "id": "794049c0",
   "metadata": {},
   "outputs": [
    {
     "data": {
      "text/plain": [
       "array([[ 23.        ,  98.        ,   1.        ,   1.        ,\n",
       "          0.        ,   0.        ,   1.        ],\n",
       "       [ 81.        ,  98.        ,   1.        ,   0.        ,\n",
       "          0.        ,   0.        ,   1.        ],\n",
       "       [ 15.        , 101.        ,   0.        ,   1.        ,\n",
       "          1.        ,   0.        ,   0.        ],\n",
       "       [  8.        , 101.        ,   0.        ,   0.        ,\n",
       "          0.        ,   1.        ,   0.        ],\n",
       "       [ 72.        ,  99.        ,   0.        ,   1.        ,\n",
       "          0.        ,   0.        ,   0.        ],\n",
       "       [ 75.        , 100.81944444,   0.        ,   0.        ,\n",
       "          1.        ,   0.        ,   0.        ],\n",
       "       [ 71.        , 100.81944444,   1.        ,   1.        ,\n",
       "          0.        ,   1.        ,   0.        ],\n",
       "       [ 64.        , 101.        ,   0.        ,   0.        ,\n",
       "          1.        ,   0.        ,   0.        ],\n",
       "       [ 13.        , 100.        ,   1.        ,   0.        ,\n",
       "          0.        ,   1.        ,   0.        ],\n",
       "       [ 60.        ,  99.        ,   0.        ,   0.        ,\n",
       "          0.        ,   0.        ,   1.        ],\n",
       "       [ 25.        , 104.        ,   0.        ,   1.        ,\n",
       "          0.        ,   0.        ,   0.        ],\n",
       "       [  6.        , 104.        ,   0.        ,   0.        ,\n",
       "          0.        ,   1.        ,   0.        ],\n",
       "       [ 31.        ,  98.        ,   0.        ,   0.        ,\n",
       "          0.        ,   1.        ,   0.        ],\n",
       "       [ 11.        , 100.        ,   0.        ,   1.        ,\n",
       "          0.        ,   0.        ,   0.        ],\n",
       "       [ 38.        , 100.81944444,   0.        ,   1.        ,\n",
       "          1.        ,   0.        ,   0.        ],\n",
       "       [ 83.        , 103.        ,   0.        ,   1.        ,\n",
       "          0.        ,   1.        ,   0.        ],\n",
       "       [ 51.        , 101.        ,   1.        ,   0.        ,\n",
       "          0.        ,   1.        ,   0.        ],\n",
       "       [ 12.        ,  98.        ,   1.        ,   1.        ,\n",
       "          0.        ,   0.        ,   0.        ],\n",
       "       [ 16.        , 103.        ,   0.        ,   0.        ,\n",
       "          0.        ,   0.        ,   0.        ],\n",
       "       [ 82.        , 102.        ,   1.        ,   0.        ,\n",
       "          0.        ,   1.        ,   0.        ],\n",
       "       [ 65.        ,  98.        ,   0.        ,   0.        ,\n",
       "          0.        ,   0.        ,   1.        ],\n",
       "       [ 26.        ,  98.        ,   0.        ,   0.        ,\n",
       "          0.        ,   1.        ,   0.        ],\n",
       "       [ 12.        , 104.        ,   0.        ,   0.        ,\n",
       "          0.        ,   0.        ,   0.        ],\n",
       "       [ 19.        , 100.        ,   0.        ,   0.        ,\n",
       "          0.        ,   1.        ,   0.        ],\n",
       "       [ 17.        , 104.        ,   0.        ,   0.        ,\n",
       "          0.        ,   1.        ,   0.        ],\n",
       "       [ 69.        , 102.        ,   0.        ,   0.        ,\n",
       "          0.        ,   0.        ,   0.        ],\n",
       "       [ 64.        ,  98.        ,   0.        ,   0.        ,\n",
       "          0.        ,   0.        ,   0.        ],\n",
       "       [ 49.        ,  99.        ,   1.        ,   0.        ,\n",
       "          0.        ,   0.        ,   0.        ],\n",
       "       [ 70.        , 103.        ,   1.        ,   1.        ,\n",
       "          0.        ,   1.        ,   0.        ],\n",
       "       [  5.        ,  98.        ,   1.        ,   0.        ,\n",
       "          0.        ,   0.        ,   1.        ],\n",
       "       [ 40.        ,  98.        ,   1.        ,   0.        ,\n",
       "          1.        ,   0.        ,   0.        ],\n",
       "       [ 20.        , 101.        ,   0.        ,   0.        ,\n",
       "          0.        ,   0.        ,   0.        ],\n",
       "       [ 42.        , 104.        ,   0.        ,   1.        ,\n",
       "          0.        ,   0.        ,   1.        ],\n",
       "       [ 14.        ,  99.        ,   0.        ,   0.        ,\n",
       "          0.        ,   0.        ,   1.        ],\n",
       "       [ 81.        , 101.        ,   0.        ,   0.        ,\n",
       "          0.        ,   0.        ,   1.        ],\n",
       "       [  5.        , 102.        ,   0.        ,   1.        ,\n",
       "          0.        ,   1.        ,   0.        ],\n",
       "       [ 34.        , 104.        ,   1.        ,   0.        ,\n",
       "          1.        ,   0.        ,   0.        ],\n",
       "       [ 71.        ,  98.        ,   1.        ,   0.        ,\n",
       "          0.        ,   1.        ,   0.        ],\n",
       "       [ 10.        , 100.        ,   0.        ,   1.        ,\n",
       "          0.        ,   0.        ,   0.        ],\n",
       "       [ 55.        , 100.        ,   0.        ,   1.        ,\n",
       "          0.        ,   1.        ,   0.        ],\n",
       "       [ 60.        , 103.        ,   0.        ,   1.        ,\n",
       "          0.        ,   1.        ,   0.        ],\n",
       "       [ 25.        ,  99.        ,   1.        ,   0.        ,\n",
       "          0.        ,   1.        ,   0.        ],\n",
       "       [ 33.        , 102.        ,   1.        ,   0.        ,\n",
       "          1.        ,   0.        ,   0.        ],\n",
       "       [ 80.        , 100.        ,   0.        ,   1.        ,\n",
       "          0.        ,   0.        ,   0.        ],\n",
       "       [ 34.        , 100.81944444,   1.        ,   0.        ,\n",
       "          0.        ,   0.        ,   1.        ],\n",
       "       [ 11.        , 100.        ,   1.        ,   0.        ,\n",
       "          0.        ,   1.        ,   0.        ],\n",
       "       [ 73.        , 103.        ,   0.        ,   0.        ,\n",
       "          1.        ,   0.        ,   0.        ],\n",
       "       [ 56.        , 104.        ,   1.        ,   0.        ,\n",
       "          0.        ,   0.        ,   0.        ],\n",
       "       [ 83.        , 101.        ,   0.        ,   0.        ,\n",
       "          0.        ,   1.        ,   0.        ],\n",
       "       [ 82.        , 102.        ,   1.        ,   0.        ,\n",
       "          0.        ,   0.        ,   0.        ],\n",
       "       [ 74.        , 102.        ,   0.        ,   1.        ,\n",
       "          0.        ,   0.        ,   1.        ],\n",
       "       [ 19.        , 100.        ,   1.        ,   0.        ,\n",
       "          0.        ,   0.        ,   0.        ],\n",
       "       [ 49.        , 101.        ,   0.        ,   0.        ,\n",
       "          1.        ,   0.        ,   0.        ],\n",
       "       [ 20.        , 100.81944444,   1.        ,   0.        ,\n",
       "          0.        ,   0.        ,   1.        ],\n",
       "       [ 83.        ,  98.        ,   0.        ,   1.        ,\n",
       "          1.        ,   0.        ,   0.        ],\n",
       "       [ 44.        , 104.        ,   0.        ,   1.        ,\n",
       "          0.        ,   0.        ,   1.        ],\n",
       "       [ 75.        , 104.        ,   1.        ,   0.        ,\n",
       "          1.        ,   0.        ,   0.        ],\n",
       "       [ 34.        , 101.        ,   1.        ,   0.        ,\n",
       "          1.        ,   0.        ,   0.        ],\n",
       "       [ 24.        , 102.        ,   1.        ,   0.        ,\n",
       "          0.        ,   0.        ,   0.        ],\n",
       "       [ 47.        , 101.        ,   1.        ,   1.        ,\n",
       "          0.        ,   0.        ,   0.        ],\n",
       "       [ 69.        ,  98.        ,   1.        ,   0.        ,\n",
       "          0.        ,   0.        ,   1.        ],\n",
       "       [ 27.        , 100.        ,   0.        ,   1.        ,\n",
       "          0.        ,   1.        ,   0.        ],\n",
       "       [ 19.        , 101.        ,   0.        ,   0.        ,\n",
       "          0.        ,   0.        ,   1.        ],\n",
       "       [ 84.        , 100.81944444,   0.        ,   0.        ,\n",
       "          0.        ,   0.        ,   0.        ],\n",
       "       [ 48.        , 103.        ,   0.        ,   0.        ,\n",
       "          0.        ,   1.        ,   0.        ],\n",
       "       [ 46.        , 103.        ,   1.        ,   1.        ,\n",
       "          0.        ,   0.        ,   0.        ],\n",
       "       [ 65.        ,  99.        ,   0.        ,   1.        ,\n",
       "          0.        ,   0.        ,   0.        ],\n",
       "       [ 59.        ,  99.        ,   1.        ,   0.        ,\n",
       "          1.        ,   0.        ,   0.        ],\n",
       "       [ 54.        , 104.        ,   1.        ,   0.        ,\n",
       "          0.        ,   1.        ,   0.        ],\n",
       "       [ 65.        , 101.        ,   0.        ,   0.        ,\n",
       "          0.        ,   0.        ,   1.        ],\n",
       "       [ 73.        ,  98.        ,   0.        ,   1.        ,\n",
       "          0.        ,   0.        ,   0.        ],\n",
       "       [ 42.        , 100.81944444,   1.        ,   0.        ,\n",
       "          0.        ,   0.        ,   0.        ],\n",
       "       [ 79.        , 100.81944444,   1.        ,   1.        ,\n",
       "          0.        ,   1.        ,   0.        ],\n",
       "       [ 64.        , 102.        ,   0.        ,   1.        ,\n",
       "          0.        ,   0.        ,   0.        ],\n",
       "       [ 65.        ,  99.        ,   0.        ,   1.        ,\n",
       "          1.        ,   0.        ,   0.        ],\n",
       "       [ 38.        , 101.        ,   0.        ,   0.        ,\n",
       "          0.        ,   0.        ,   0.        ],\n",
       "       [ 16.        , 104.        ,   0.        ,   1.        ,\n",
       "          0.        ,   1.        ,   0.        ],\n",
       "       [ 20.        , 102.        ,   1.        ,   1.        ,\n",
       "          1.        ,   0.        ,   0.        ],\n",
       "       [ 80.        ,  98.        ,   0.        ,   0.        ,\n",
       "          1.        ,   0.        ,   0.        ],\n",
       "       [ 66.        ,  99.        ,   1.        ,   1.        ,\n",
       "          0.        ,   0.        ,   0.        ]])"
      ]
     },
     "execution_count": 33,
     "metadata": {},
     "output_type": "execute_result"
    }
   ],
   "source": [
    "x_train_transformed"
   ]
  },
  {
   "cell_type": "markdown",
   "id": "d0ee39f0",
   "metadata": {},
   "source": []
  },
  {
   "cell_type": "code",
   "execution_count": null,
   "id": "430c0bb8",
   "metadata": {},
   "outputs": [],
   "source": []
  },
  {
   "cell_type": "code",
   "execution_count": null,
   "id": "4230dcfa",
   "metadata": {},
   "outputs": [],
   "source": []
  },
  {
   "cell_type": "code",
   "execution_count": null,
   "id": "82cfef8f",
   "metadata": {},
   "outputs": [],
   "source": []
  },
  {
   "cell_type": "code",
   "execution_count": null,
   "id": "66d7f256",
   "metadata": {},
   "outputs": [],
   "source": []
  },
  {
   "cell_type": "code",
   "execution_count": null,
   "id": "7e1cec83",
   "metadata": {},
   "outputs": [],
   "source": []
  },
  {
   "cell_type": "code",
   "execution_count": null,
   "id": "d6b0d096",
   "metadata": {},
   "outputs": [],
   "source": []
  },
  {
   "cell_type": "code",
   "execution_count": null,
   "id": "81ccc607",
   "metadata": {},
   "outputs": [],
   "source": []
  },
  {
   "cell_type": "code",
   "execution_count": null,
   "metadata": {},
   "outputs": [],
   "source": []
  }
 ],
 "metadata": {
  "kernelspec": {
   "display_name": "Python 3",
   "language": "python",
   "name": "python3"
  },
  "language_info": {
   "codemirror_mode": {
    "name": "ipython",
    "version": 3
   },
   "file_extension": ".py",
   "mimetype": "text/x-python",
   "name": "python",
   "nbconvert_exporter": "python",
   "pygments_lexer": "ipython3",
   "version": "3.12.5"
  }
 },
 "nbformat": 4,
 "nbformat_minor": 5
}
