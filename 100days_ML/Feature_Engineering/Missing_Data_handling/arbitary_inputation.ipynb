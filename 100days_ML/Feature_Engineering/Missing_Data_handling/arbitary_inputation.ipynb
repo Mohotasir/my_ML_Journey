{
 "cells": [
  {
   "cell_type": "markdown",
   "id": "c5f197b4",
   "metadata": {},
   "source": [
    "Arbitrary value imputation is a method used to handle missing data in a dataset. It involves filling in missing values with a fixed (arbitrary) number, usually chosen manually — not derived from the data like mean, median, or mode."
   ]
  },
  {
   "cell_type": "markdown",
   "id": "b155f1fb",
   "metadata": {},
   "source": [
    "If you use arbitrary value imputation and decide to fill all missing values with -999 or 0 or 100, that's arbitrary imputation:\n"
   ]
  },
  {
   "cell_type": "code",
   "execution_count": null,
   "id": "f69a2de7",
   "metadata": {},
   "outputs": [],
   "source": [
    "import pandas as pd\n",
    "df = pd.read_csv('x')\n",
    "df['Age'].fillna(-999, inplace=True)\n"
   ]
  },
  {
   "cell_type": "markdown",
   "id": "05c204a8",
   "metadata": {},
   "source": [
    "💡 Why use arbitrary values?\n",
    "To flag missing data explicitly (e.g., using -999 makes it easy to identify them later).\n",
    "\n",
    "Useful in tree-based models (like Random Forests) which can treat such values separately.\n",
    "\n",
    "When you know the missing value should not be treated as a \"typical\" number from the distribution.\n",
    "\n",
    "⚠️ Caveats:\n",
    "Not always a good idea for linear models — arbitrary values can introduce bias.\n",
    "\n",
    "Should be used carefully, ideally when the value doesn’t overlap with real data values.\n",
    "\n"
   ]
  },
  {
   "cell_type": "markdown",
   "id": "62f3f18c",
   "metadata": {},
   "source": [
    "| Method                         | Description                                                                                                       |\n",
    "| ------------------------------ | ----------------------------------------------------------------------------------------------------------------- |\n",
    "| **Arbitrary Value Imputation** | Replace missing values with a **fixed, manually chosen value**, such as `-999`, `0`, or `100`.                    |\n",
    "| **Min/Max Value Imputation**   | Replace missing values with the **minimum or maximum value** of the feature column (from the non-missing values). |\n"
   ]
  },
  {
   "cell_type": "markdown",
   "id": "9c644a6c",
   "metadata": {},
   "source": [
    "| Method    | Advantages                                                                    |\n",
    "| --------- | ----------------------------------------------------------------------------- |\n",
    "| Arbitrary | Helps **flag missing data** clearly; especially useful for tree-based models. |\n",
    "| Min/Max   | Keeps imputed values **within actual data range**, preventing outlier bias.   |\n"
   ]
  },
  {
   "cell_type": "markdown",
   "id": "bd49b667",
   "metadata": {},
   "source": []
  }
 ],
 "metadata": {
  "language_info": {
   "name": "python"
  }
 },
 "nbformat": 4,
 "nbformat_minor": 5
}
